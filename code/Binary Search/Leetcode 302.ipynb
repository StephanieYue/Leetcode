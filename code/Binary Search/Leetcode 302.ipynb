{
 "cells": [
  {
   "cell_type": "markdown",
   "metadata": {},
   "source": [
    "An image is represented by a binary matrix with 0 as a white pixel and 1 as a black pixel. The black pixels are connected, i.e., there is only one black region. Pixels are connected horizontally and vertically. Given the location (x, y) of one of the black pixels, return the area of the smallest (axis-aligned) rectangle that encloses all black pixels.\n",
    "\n",
    "Example:\n",
    "\n",
    "Input:\n",
    "[\n",
    "  \"0010\",\n",
    "  \"0110\",\n",
    "  \"0100\"\n",
    "]\n",
    "and x = 0, y = 2\n",
    "\n",
    "Output: 6"
   ]
  },
  {
   "cell_type": "code",
   "execution_count": 4,
   "metadata": {},
   "outputs": [],
   "source": [
    "class Solution(object):\n",
    "    def minArea(self,image,x,y):\n",
    "        top = self.searchrows(image,0,x,True)\n",
    "        bottom = self.searchrows(image,x+1,len(image),False)\n",
    "        left = self.searchcols(image,0,y,top,bottom,True)\n",
    "        right = self.searchcols(image,y+1,len(image[0]),top,bottom,False)\n",
    "        \n",
    "        return (right-left)*(bottom-top)\n",
    "    \n",
    "    # this is O(nlogm)\n",
    "    def searchrows(self,image,start,end,op):\n",
    "        while start < end:\n",
    "            mid = (start+end)//2\n",
    "            \n",
    "            if ('1' in  image[mid]) == op :\n",
    "                end = mid\n",
    "            else:\n",
    "                start = mid + 1\n",
    "                \n",
    "        return end\n",
    "    \n",
    "    # this is O(mlogn)\n",
    "    #pass in top and bottom to restrict the columns to search\n",
    "    def searchcols(self,image,start,end,top,bottom,op):\n",
    "        while start < end:\n",
    "            mid = (start+end)//2\n",
    "            if any(image[k][mid] == '1' for k in range(top, bottom)) == op:\n",
    "                end = mid\n",
    "            else:\n",
    "                start = mid + 1\n",
    "                \n",
    "        return end\n",
    "  "
   ]
  },
  {
   "cell_type": "code",
   "execution_count": 5,
   "metadata": {},
   "outputs": [
    {
     "name": "stdout",
     "output_type": "stream",
     "text": [
      "6\n"
     ]
    }
   ],
   "source": [
    "image = [[\"0\",\"0\",\"1\",\"0\"],[\"0\",\"1\",\"1\",\"0\"],[\"0\",\"1\",\"0\",\"0\"]]\n",
    "x = 0\n",
    "y = 2\n",
    "print(Solution().minArea(image,x,y))"
   ]
  }
 ],
 "metadata": {
  "kernelspec": {
   "display_name": "Python 3",
   "language": "python",
   "name": "python3"
  },
  "language_info": {
   "codemirror_mode": {
    "name": "ipython",
    "version": 3
   },
   "file_extension": ".py",
   "mimetype": "text/x-python",
   "name": "python",
   "nbconvert_exporter": "python",
   "pygments_lexer": "ipython3",
   "version": "3.7.1"
  }
 },
 "nbformat": 4,
 "nbformat_minor": 2
}
